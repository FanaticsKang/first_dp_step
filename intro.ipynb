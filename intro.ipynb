{
  "cells": [
    {
      "cell_type": "markdown",
      "metadata": {
        "id": "view-in-github",
        "colab_type": "text"
      },
      "source": [
        "<a href=\"https://colab.research.google.com/github/FanaticsKang/first_dp_step/blob/main/intro.ipynb\" target=\"_parent\"><img src=\"https://colab.research.google.com/assets/colab-badge.svg\" alt=\"Open In Colab\"/></a>"
      ]
    },
    {
      "cell_type": "code",
      "source": [
        "import torch\n",
        "import torch.nn as nn\n",
        "import numpy as np\n",
        "from PIL import Image\n",
        "from matplotlib import pyplot as plt\n",
        "\n",
        "def main():\n",
        "  data = [[1, 2],[3, 4]]\n",
        "  x_data = torch.tensor(data)\n",
        "  print(x_data.type())\n",
        "\n",
        "  np_array = np.array(data)\n",
        "  x_np = torch.from_numpy(np_array)\n",
        "  print(x_np.type())\n",
        "\n",
        "  x_ones = torch.ones_like(x_data)\n",
        "  print(f\"Ones Tensor: \\n {x_ones} \\n\")\n",
        "\n",
        "  x_rand = torch.rand_like(x_data, dtype=torch.float)\n",
        "  print(f\"Random Tensor: \\n {x_rand} \\n\")\n",
        "\n",
        "  shape = (2,3)\n",
        "  rand_tensor = torch.rand(shape)\n",
        "  ones_tensor = torch.ones(shape)\n",
        "  zeros_tensor = torch.zeros(shape)\n",
        "  print(f\"Random Tensor: \\n {rand_tensor} \\n\")\n",
        "  print(f\"Ones Tensor: \\n {ones_tensor} \\n\")\n",
        "  print(f\"Zeros Tensor: \\n {zeros_tensor}\")\n",
        "\n",
        "  tensor = torch.rand(3,4)\n",
        "\n",
        "  print(f\"Shape of tensor: {tensor.shape}\")\n",
        "  print(f\"Datatype of tensor: {tensor.dtype}\")\n",
        "  print(f\"Device tensor is stored on: {tensor.device}\")\n",
        "\n",
        "\n",
        "if __name__ == '__main__':\n",
        "    main()"
      ],
      "metadata": {
        "colab": {
          "base_uri": "https://localhost:8080/"
        },
        "id": "cKnj4SHpKc9-",
        "outputId": "83e06ec4-6dc7-4a84-eee8-b6afa14bf53f"
      },
      "execution_count": 5,
      "outputs": [
        {
          "output_type": "stream",
          "name": "stdout",
          "text": [
            "torch.LongTensor\n",
            "torch.LongTensor\n",
            "Ones Tensor: \n",
            " tensor([[1, 1],\n",
            "        [1, 1]]) \n",
            "\n",
            "Random Tensor: \n",
            " tensor([[0.7574, 0.8178],\n",
            "        [0.5795, 0.8855]]) \n",
            "\n",
            "Random Tensor: \n",
            " tensor([[0.5680, 0.1473, 0.4355],\n",
            "        [0.6801, 0.9185, 0.3247]]) \n",
            "\n",
            "Ones Tensor: \n",
            " tensor([[1., 1., 1.],\n",
            "        [1., 1., 1.]]) \n",
            "\n",
            "Zeros Tensor: \n",
            " tensor([[0., 0., 0.],\n",
            "        [0., 0., 0.]])\n",
            "Shape of tensor: torch.Size([3, 4])\n",
            "Datatype of tensor: torch.float32\n",
            "Device tensor is stored on: cpu\n"
          ]
        }
      ]
    }
  ],
  "metadata": {
    "kernelspec": {
      "display_name": "Python 3",
      "name": "python3"
    },
    "language_info": {
      "codemirror_mode": {
        "name": "ipython",
        "version": 3
      },
      "file_extension": ".py",
      "mimetype": "text/x-python",
      "name": "python",
      "nbconvert_exporter": "python",
      "pygments_lexer": "ipython3",
      "version": "3.10.12"
    },
    "colab": {
      "provenance": [],
      "gpuType": "T4",
      "include_colab_link": true
    },
    "accelerator": "GPU"
  },
  "nbformat": 4,
  "nbformat_minor": 0
}